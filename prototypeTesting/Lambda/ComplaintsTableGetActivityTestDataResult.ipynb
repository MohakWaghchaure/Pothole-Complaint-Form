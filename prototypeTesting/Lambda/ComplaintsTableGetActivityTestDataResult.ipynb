{
 "cells": [
  {
   "metadata": {},
   "cell_type": "markdown",
   "source": [
    "The `ComplaintsTableGetActivityTestDataResult.ipynb` script is designed to test the `LBC-getPotholeComplaints` AWS Lambda function. This function is responsible for fetching pothole complaints from a DynamoDB table. The script uses the `boto3` library to interact with AWS services and the `json` library to work with JSON objects. \n",
    "\n",
    "Here's a detailed breakdown of the script:\n",
    "\n",
    "- The script defines a constant `LAMBDA_FUNCTION_NAME` which is the name of the Lambda function to be tested. This should be set to 'LBC-getPotholeComplaints' or the name of your Lambda function.\n",
    "\n",
    "- An AWS Lambda client is created using `boto3.client('lambda')`.\n",
    "\n",
    "- The script then creates a JSON object for each page number from 1 to 5. The JSON object contains a single key-value pair, where the key is \"page\" and the value is the page number.\n",
    "\n",
    "- For each JSON object, the script invokes the Lambda function using the `invoke` method of the Lambda client. The JSON object is sent as the payload to the Lambda function.\n",
    "\n",
    "- The response from the Lambda function is received and the status code, function error, and payload are extracted from the response.\n",
    "\n",
    "- The payload is read, decoded from 'utf-8', and loaded as a JSON object.\n",
    "\n",
    "- The status code, function error, and payload JSON are then printed.\n",
    "\n",
    "This script is useful for testing the functionality of the `LBC-getPotholeComplaints` Lambda function. It can be run in a Jupyter notebook or any Python environment with the necessary libraries installed. The `boto3` library must be installed to interact with AWS services. The script can be modified to test different page numbers or to send the data to a different Lambda function. The script assumes that the Lambda function `LBC-getPotholeComplaints` is deployed and accessible in the AWS account. The script can be run multiple times to test the Lambda function with different page numbers. The script can be used to test the error handling and response handling of the Lambda function by analyzing the response from the Lambda function."
   ],
   "id": "3940d2ef7e47a6ba"
  },
  {
   "cell_type": "code",
   "execution_count": null,
   "id": "initial_id",
   "metadata": {
    "collapsed": true
   },
   "outputs": [],
   "source": [
    "import json\n",
    "import boto3\n",
    "\n",
    "# Constants\n",
    "LAMBDA_FUNCTION_NAME = 'LBC-getPotholeComplaints'  # Change this to the name of your Lambda function\n",
    "\n",
    "# AWS Lambda client\n",
    "lambda_client = boto3.client('lambda')\n",
    "\n",
    "# JSON object to send to the Lambda function\n",
    "for page in range(1, 6):  # Test for page values 1 to 5\n",
    "    json_object = {\n",
    "        \"page\": page\n",
    "    }\n",
    "\n",
    "    # Send the JSON object to the Lambda function and get the response\n",
    "    print(f\"Testing for page: {page}\")\n",
    "    print(json.dumps(json_object, indent=2))\n",
    "    response = lambda_client.invoke(\n",
    "        FunctionName=LAMBDA_FUNCTION_NAME,\n",
    "        InvocationType='RequestResponse',  # Change this\n",
    "        Payload=json.dumps(json_object)\n",
    "    )\n",
    "    status_code = response.get('StatusCode', 'No StatusCode')\n",
    "    function_error = response.get('FunctionError', 'No FunctionError')\n",
    "\n",
    "    # Read the returned message\n",
    "    payload = response['Payload'].read()\n",
    "    payload_decoded = payload.decode('utf-8')\n",
    "    payload_json = json.loads(payload_decoded)\n",
    "\n",
    "    print(f\"Response from Lambda: {status_code} - {function_error} - {payload_json}\")"
   ]
  }
 ],
 "metadata": {
  "kernelspec": {
   "display_name": "Python 3",
   "language": "python",
   "name": "python3"
  },
  "language_info": {
   "codemirror_mode": {
    "name": "ipython",
    "version": 2
   },
   "file_extension": ".py",
   "mimetype": "text/x-python",
   "name": "python",
   "nbconvert_exporter": "python",
   "pygments_lexer": "ipython2",
   "version": "2.7.6"
  }
 },
 "nbformat": 4,
 "nbformat_minor": 5
}
